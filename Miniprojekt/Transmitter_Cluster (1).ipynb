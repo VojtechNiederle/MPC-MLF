{
  "nbformat": 4,
  "nbformat_minor": 0,
  "metadata": {
    "colab": {
      "provenance": [],
      "collapsed_sections": [
        "eClFWsm1Beto",
        "9YDBRf6IAtFl",
        "nPjTGEkaB2u2",
        "_xWY3dWkCHlX",
        "p6Y-vUJsCc5l",
        "Hf9PsBmmBwsn",
        "-tsFOBZw3QJ2",
        "8LTZRXPD3wks",
        "Zr6dnos_34cs",
        "9gnOgTr34z3x"
      ]
    },
    "kernelspec": {
      "name": "python3",
      "display_name": "Python 3"
    },
    "language_info": {
      "name": "python"
    }
  },
  "cells": [
    {
      "cell_type": "markdown",
      "source": [
        "# **MPA-MLF - Miniproject**\n",
        "Classification of wireless transmitters.\n",
        "Task is to determine the number of wireless transmitters based on the hardware imperfections. You\n",
        "are provided with the dataset. The dataset consists of 19200 samples and 9 features in total. The features represent\n",
        "the main radio frequency impairments."
      ],
      "metadata": {
        "id": "9wQWM6AIbKLJ"
      }
    },
    {
      "cell_type": "markdown",
      "source": [
        "## Clustering using libraries\n"
      ],
      "metadata": {
        "id": "Hr6k-SCctRmE"
      }
    },
    {
      "cell_type": "markdown",
      "source": [
        "### Importing libraries"
      ],
      "metadata": {
        "id": "eClFWsm1Beto"
      }
    },
    {
      "cell_type": "code",
      "source": [
        "!pip install kneed"
      ],
      "metadata": {
        "colab": {
          "base_uri": "https://localhost:8080/"
        },
        "id": "EUp9lhDhBdtw",
        "outputId": "17283497-b2a8-4aec-cb04-a65ae1f2801c"
      },
      "execution_count": 7,
      "outputs": [
        {
          "output_type": "stream",
          "name": "stdout",
          "text": [
            "Requirement already satisfied: kneed in /usr/local/lib/python3.10/dist-packages (0.8.5)\n",
            "Requirement already satisfied: numpy>=1.14.2 in /usr/local/lib/python3.10/dist-packages (from kneed) (1.25.2)\n",
            "Requirement already satisfied: scipy>=1.0.0 in /usr/local/lib/python3.10/dist-packages (from kneed) (1.11.4)\n"
          ]
        }
      ]
    },
    {
      "cell_type": "code",
      "source": [
        "from kneed import KneeLocator\n",
        "import pandas as pd\n",
        "from sklearn.preprocessing import StandardScaler\n",
        "from sklearn.cluster import KMeans\n",
        "import pandas as pd\n",
        "import matplotlib.pyplot as plt\n",
        "import warnings\n",
        "from IPython.display import clear_output"
      ],
      "metadata": {
        "id": "NejLGBnNug_o"
      },
      "execution_count": 8,
      "outputs": []
    },
    {
      "cell_type": "markdown",
      "source": [
        "### Preprocessing"
      ],
      "metadata": {
        "id": "9YDBRf6IAtFl"
      }
    },
    {
      "cell_type": "code",
      "source": [
        "data_path = 'https://raw.githubusercontent.com/VojtechNiederle/MPC-MLF/main/Miniprojekt/Data_prepared_final.csv'\n",
        "data = pd.read_csv(data_path).iloc[:, 2:].values\n",
        "\n",
        "scaler = StandardScaler()\n",
        "data_scaled = scaler.fit_transform(data)\n",
        "print(data_scaled)"
      ],
      "metadata": {
        "id": "MeeJEeVyuarj",
        "colab": {
          "base_uri": "https://localhost:8080/"
        },
        "outputId": "0a40fa5d-000d-4cdc-cfce-1ff3a3b41274"
      },
      "execution_count": 9,
      "outputs": [
        {
          "output_type": "stream",
          "name": "stdout",
          "text": [
            "[[-0.10218242 -0.11905909  0.68430902 ... -0.42776025 -1.48754722\n",
            "  -0.97623555]\n",
            " [-0.10218242 -0.12510636  0.55147287 ... -0.75935883 -1.49722643\n",
            "  -1.28171204]\n",
            " [-0.10218242 -0.11895637  0.3717129  ... -1.01101267 -1.47954415\n",
            "  -1.34782615]\n",
            " ...\n",
            " [ 1.42819676  1.42668032  0.55546696 ... -0.59217272 -0.38884086\n",
            "  -0.57445562]\n",
            " [ 1.42819676  1.42326867  0.09704912 ... -0.96982704 -0.35776759\n",
            "  -0.69675858]\n",
            " [ 1.42819676  1.4243443   0.40553964 ... -0.98722263 -0.45774141\n",
            "  -0.75513862]]\n"
          ]
        }
      ]
    },
    {
      "cell_type": "markdown",
      "source": [
        "### Clustering"
      ],
      "metadata": {
        "id": "nPjTGEkaB2u2"
      }
    },
    {
      "cell_type": "code",
      "source": [
        "warnings.filterwarnings('ignore')\n",
        "\n",
        "all_objective = []\n",
        "k_all = range(1, 80)\n",
        "\n",
        "for k in k_all:\n",
        "  print(\"progress: k:\",k)\n",
        "  clear_output(wait=True)\n",
        "\n",
        "  kmeans = KMeans(n_clusters=k)\n",
        "  kmeans.fit(data_scaled)\n",
        "  all_objective.append(kmeans.inertia_)\n",
        "\n",
        "print(\"progress: Done\")"
      ],
      "metadata": {
        "colab": {
          "base_uri": "https://localhost:8080/"
        },
        "id": "ZK1MIKANt3Z3",
        "outputId": "730bf461-80c0-4bab-ed6c-2a259adc677a"
      },
      "execution_count": 10,
      "outputs": [
        {
          "output_type": "stream",
          "name": "stdout",
          "text": [
            "progress: Done\n"
          ]
        }
      ]
    },
    {
      "cell_type": "markdown",
      "source": [
        "### Knee location"
      ],
      "metadata": {
        "id": "_xWY3dWkCHlX"
      }
    },
    {
      "cell_type": "code",
      "source": [
        "kneedle = KneeLocator(k_all, all_objective,S=0.1, curve='convex', direction='decreasing')\n",
        "print(\"Number of transmitters:\",kneedle.knee)"
      ],
      "metadata": {
        "colab": {
          "base_uri": "https://localhost:8080/"
        },
        "id": "WJRSVQ5LyG9J",
        "outputId": "6443b253-1fcb-4ddf-a69b-75d2312eb239"
      },
      "execution_count": 11,
      "outputs": [
        {
          "output_type": "stream",
          "name": "stdout",
          "text": [
            "Number of transmitters: 9\n"
          ]
        }
      ]
    },
    {
      "cell_type": "markdown",
      "source": [
        "### Cluster plot (result)"
      ],
      "metadata": {
        "id": "p6Y-vUJsCc5l"
      }
    },
    {
      "cell_type": "code",
      "source": [
        "plt.figure()\n",
        "plt.plot(k_all, all_objective, marker='o')\n",
        "plt.axvline(kneedle.knee, color='black', linestyle='--', label='Knee Point')\n",
        "plt.title('Elbow Method')\n",
        "plt.xlabel('Number of clusters')\n",
        "plt.ylabel('Sum of squared distance')\n",
        "plt.show()"
      ],
      "metadata": {
        "colab": {
          "base_uri": "https://localhost:8080/",
          "height": 472
        },
        "id": "zQbmTsXZuUbC",
        "outputId": "f4c1314b-bade-49eb-f71d-116efac66b6e"
      },
      "execution_count": 12,
      "outputs": [
        {
          "output_type": "display_data",
          "data": {
            "text/plain": [
              "<Figure size 640x480 with 1 Axes>"
            ],
            "image/png": "[encoded data removed]"
          },
          "metadata": {}
        }
      ]
    },
    {
      "cell_type": "markdown",
      "source": [
        "## Clustering using functions from PC labs\n"
      ],
      "metadata": {
        "id": "VAm3thgy2N-y"
      }
    },
    {
      "cell_type": "markdown",
      "source": [
        "### Importing libraries"
      ],
      "metadata": {
        "id": "Hf9PsBmmBwsn"
      }
    },
    {
      "cell_type": "code",
      "source": [
        "!pip install kneed"
      ],
      "metadata": {
        "colab": {
          "base_uri": "https://localhost:8080/"
        },
        "id": "DLpGjwro6Hdz",
        "outputId": "3f6472a6-b216-407f-9e32-da5bd02c4feb"
      },
      "execution_count": 13,
      "outputs": [
        {
          "output_type": "stream",
          "name": "stdout",
          "text": [
            "Requirement already satisfied: kneed in /usr/local/lib/python3.10/dist-packages (0.8.5)\n",
            "Requirement already satisfied: numpy>=1.14.2 in /usr/local/lib/python3.10/dist-packages (from kneed) (1.25.2)\n",
            "Requirement already satisfied: scipy>=1.0.0 in /usr/local/lib/python3.10/dist-packages (from kneed) (1.11.4)\n"
          ]
        }
      ]
    },
    {
      "cell_type": "code",
      "source": [
        "from kneed import KneeLocator\n",
        "import pandas as pd\n",
        "from sklearn.preprocessing import StandardScaler\n",
        "import pandas as pd\n",
        "import matplotlib.pyplot as plt\n",
        "from IPython.display import clear_output\n",
        "import numpy as np"
      ],
      "metadata": {
        "id": "HlH3FbAA6A75"
      },
      "execution_count": 14,
      "outputs": []
    },
    {
      "cell_type": "markdown",
      "source": [
        "### Function Definitions"
      ],
      "metadata": {
        "id": "-tsFOBZw3QJ2"
      }
    },
    {
      "cell_type": "code",
      "source": [
        "def initialize_clusters(points: np.array, k_clusters: int) -> np.array:\n",
        "    index = np.arange(points.shape[0])\n",
        "    np.random.shuffle(index)\n",
        "    req_index = index[:k_clusters]\n",
        "    m_points = points[req_index]\n",
        "    return m_points"
      ],
      "metadata": {
        "id": "Q2AODAcGCXR7"
      },
      "execution_count": 15,
      "outputs": []
    },
    {
      "cell_type": "code",
      "source": [
        "def calculate_metric(points: np.array, centroid: np.array) -> np.array:\n",
        "    distances_array = np.square(np.linalg.norm(points-centroid, axis=1))\n",
        "    return distances_array"
      ],
      "metadata": {
        "id": "A1fAzytWCvv9"
      },
      "execution_count": 16,
      "outputs": []
    },
    {
      "cell_type": "code",
      "source": [
        "def compute_distances(points: np.array, centroids_points: np.array) -> np.array:\n",
        "    distances_array = np.asarray([calculate_metric(points, centroid) for centroid in centroids_points])\n",
        "    return distances_array"
      ],
      "metadata": {
        "id": "9uh95rb_Ck0A"
      },
      "execution_count": 17,
      "outputs": []
    },
    {
      "cell_type": "code",
      "source": [
        "def assign_centroids(distances: np.array) -> np.array:\n",
        "    assigned_centroids = np.argmin(distances, axis=0)\n",
        "    return assigned_centroids"
      ],
      "metadata": {
        "id": "2DOB8o1HC7AJ"
      },
      "execution_count": 18,
      "outputs": []
    },
    {
      "cell_type": "code",
      "source": [
        "def calculate_objective(assigned_centroids: np.array, distances: np.array) -> np.array:\n",
        "    objective_function_value = np.sum(distances.T[np.arange(len(distances.T)), assigned_centroids])\n",
        "    return objective_function_value"
      ],
      "metadata": {
        "id": "kWU-xWE-C80F"
      },
      "execution_count": 19,
      "outputs": []
    },
    {
      "cell_type": "code",
      "source": [
        "def calculate_new_centroids(points: np.array, assigned_centroids: np.array, k_clusters: int) -> np.array:\n",
        "    new_clusters = []\n",
        "    for cluster_id in range(k_clusters):\n",
        "        j = np.where(assigned_centroids == cluster_id)\n",
        "        points_sel = points[j]\n",
        "        new_clusters.append(np.mean(points_sel, axis=0))\n",
        "    new_clusters = np.array(new_clusters)\n",
        "    return new_clusters"
      ],
      "metadata": {
        "id": "rd7MxgiZDMGO"
      },
      "execution_count": 20,
      "outputs": []
    },
    {
      "cell_type": "code",
      "source": [
        "def fit(points: np.array, k_clusters: int, n_of_oterations: int, error: float = 0.001) -> tuple:\n",
        "    centroid_points = initialize_clusters(points, k_clusters)\n",
        "    last_objective = 10000.0\n",
        "\n",
        "    for _ in range(n_of_oterations):\n",
        "        distance = compute_distances(points, centroid_points)\n",
        "        cluster_belong = np.argmin(distance, axis=0)\n",
        "\n",
        "        objective = calculate_objective(cluster_belong, distance)\n",
        "\n",
        "        if abs(last_objective - objective) < error:\n",
        "            break\n",
        "\n",
        "        last_objective = objective\n",
        "        centroid_points = calculate_new_centroids(points, cluster_belong, k_clusters)\n",
        "\n",
        "    return centroid_points, last_objective"
      ],
      "metadata": {
        "id": "oe-FtImUCUew"
      },
      "execution_count": 21,
      "outputs": []
    },
    {
      "cell_type": "markdown",
      "source": [
        "### Preprocessing"
      ],
      "metadata": {
        "id": "8LTZRXPD3wks"
      }
    },
    {
      "cell_type": "code",
      "execution_count": 22,
      "metadata": {
        "id": "Ijwjt82OWye-"
      },
      "outputs": [],
      "source": [
        "data_path = 'https://raw.githubusercontent.com/VojtechNiederle/MPC-MLF/main/Miniprojekt/Data_prepared_final.csv'\n",
        "data = pd.read_csv(data_path).iloc[:, 2:].values\n",
        "\n",
        "from sklearn.preprocessing import StandardScaler\n",
        "scaler = StandardScaler()\n",
        "data_scaled = scaler.fit_transform(data)"
      ]
    },
    {
      "cell_type": "markdown",
      "source": [
        "### Clustering"
      ],
      "metadata": {
        "id": "Zr6dnos_34cs"
      }
    },
    {
      "cell_type": "code",
      "source": [
        "k_all = range(1, 80)\n",
        "all_objective = []\n",
        "\n",
        "for k in k_all:\n",
        "  print(\"progress: k:\",k)\n",
        "  clear_output(wait=True)\n",
        "\n",
        "  a, b = fit(data_scaled,k,1000)\n",
        "  all_objective.append(b)\n",
        "\n",
        "print(\"progress: Done\")"
      ],
      "metadata": {
        "id": "PFip377Gk3O3",
        "colab": {
          "base_uri": "https://localhost:8080/"
        },
        "outputId": "70e6d874-414b-42f8-a0d9-f1f605c60068"
      },
      "execution_count": 23,
      "outputs": [
        {
          "output_type": "stream",
          "name": "stdout",
          "text": [
            "progress: Done\n"
          ]
        }
      ]
    },
    {
      "cell_type": "markdown",
      "source": [
        "### Knee location"
      ],
      "metadata": {
        "id": "9gnOgTr34z3x"
      }
    },
    {
      "cell_type": "code",
      "source": [
        "kneedle = KneeLocator(k_all, all_objective,S=1, curve='convex', direction='decreasing')\n",
        "print(\"Number of transmitters:\",kneedle.knee)"
      ],
      "metadata": {
        "colab": {
          "base_uri": "https://localhost:8080/"
        },
        "id": "2lBHGPVe5Csi",
        "outputId": "f4432701-bc68-4e7b-d587-78fd3d00e1a3"
      },
      "execution_count": 24,
      "outputs": [
        {
          "output_type": "stream",
          "name": "stdout",
          "text": [
            "Number of transmitters: 9\n"
          ]
        }
      ]
    },
    {
      "cell_type": "markdown",
      "source": [
        "### Cluster plot (result)"
      ],
      "metadata": {
        "id": "kziYY20E5y4X"
      }
    },
    {
      "cell_type": "code",
      "source": [
        "plt.figure()\n",
        "plt.plot(k_all, all_objective, marker='o')\n",
        "plt.axvline(kneedle.knee, color='black', linestyle='--', label='Knee Point')\n",
        "plt.title('Elbow Method')\n",
        "plt.xlabel('Number of clusters')\n",
        "plt.ylabel('Sum of squared distance')\n",
        "plt.show()"
      ],
      "metadata": {
        "colab": {
          "base_uri": "https://localhost:8080/",
          "height": 472
        },
        "id": "4CzyO6-I5v_B",
        "outputId": "1d065b88-42e9-4d45-a669-196f68dff6e6"
      },
      "execution_count": 25,
      "outputs": [
        {
          "output_type": "display_data",
          "data": {
            "text/plain": [
              "<Figure size 640x480 with 1 Axes>"
            ],
            "image/png": "[encoded data removed]"
          },
          "metadata": {}
        }
      ]
    }
  ]
}